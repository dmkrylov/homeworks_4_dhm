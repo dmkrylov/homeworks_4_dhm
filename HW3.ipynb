{
 "cells": [
  {
   "cell_type": "markdown",
   "metadata": {},
   "source": [
    "# Домашнее задание № 3 (оцениваемое). Основы NLP\n",
    "## Крылов Дмитрий, БФИЛЛ-162\n",
    "\n",
    "### Задание 1\n",
    "Скачайте текст \"Литературных анекдотов\". Напишите функцию, которая будет читать файл, лемматизировать текст с помощью pymystem3 и записывать результат в новый файл. У функции должно бы два аргумента: путь к исходному файлу и путь к файлу с лемматизированным текстом. Вызов функции тоже должен быть прописан в решении."
   ]
  },
  {
   "cell_type": "code",
   "execution_count": null,
   "metadata": {},
   "outputs": [],
   "source": [
    "from pymystem3 import Mystem\n",
    "\n",
    "def Lem (path1, path2):\n",
    "    with open (path1, 'r', encoding = 'utf-8') as initial_text:\n",
    "        initial_text = initial_text.read()\n",
    "    lemmatized_list = Mystem().lemmatize(initial_text)\n",
    "    lemmatized_text = ''.join(lemmatized_list)\n",
    "    \n",
    "    with open (path2, 'w', encoding = 'utf-8') as final_text:\n",
    "        final_text.write(lemmatized_text)\n",
    "Lem (\"C:\\\\Users\\\\Arseny\\\\Desktop\\\\literary_anecdotes.txt\", \"C:\\\\Users\\\\Arseny\\\\Desktop\\\\234.txt\")\n",
    "\n"
   ]
  },
  {
   "cell_type": "markdown",
   "metadata": {},
   "source": [
    "### Задание 2\n",
    "Очистите лемматизированный текст от стоп-слов и посчитайте ipm для оставшихся. Выведите 20 самых частотных по этому параметру слов."
   ]
  },
  {
   "cell_type": "code",
   "execution_count": 21,
   "metadata": {},
   "outputs": [
    {
     "name": "stdout",
     "output_type": "stream",
     "text": [
      "5952\n",
      "[('-', 7.082569559777488e+159), ('пушкин', 7.9541896723269255e+121), ('толстой', 9.008189137594568e+74), ('гоголь', 2.9978582585501865e+70), ('однажды', 9.93512291120314e+65), ('лев', 1.0748972337423614e+57), ('любить', 6.423497285168256e+45), ('достоевский', 3.6321023049255383e+43), ('тургенев', 3.5987147256953854e+34), ('ребенок', 1.9991580044183005e+32), ('царствие', 1.1049060696419312e+30), ('окно', 6.070523932161944e+27), ('тверской', 6.070523932161944e+27), ('бульвар', 6.070523932161944e+27), ('идти', 6.070523932161944e+27), ('лермонтов', 6.070523932161944e+27), ('приходить', 3.3120778573875586e+25), ('федор', 3.3120778573875586e+25), ('михайлович', 3.3120778573875586e+25), ('герцен', 1.792135218833704e+23)]\n"
     ]
    }
   ],
   "source": [
    "from pymystem3 import Mystem\n",
    "\n",
    "with open (\"C:\\\\Users\\\\Arseny\\\\Desktop\\\\literary_anecdotes.txt\", 'r', encoding = 'utf-8') as initial_text:\n",
    "    initial_text = initial_text.read()\n",
    "lemmatized_list = Mystem().lemmatize(initial_text)\n",
    "\n",
    "with open ('C:\\\\Users\\\\Arseny\\\\Desktop\\\\Downloads\\\\rus_stopwords.txt', 'r', encoding = 'utf-8') as stop_list:\n",
    "    stop_list = stop_list.read()\n",
    "stop_list = stop_list.split()\n",
    "   \n",
    "#list of stop-words created\n",
    "\n",
    "import re\n",
    "punct = \"!\\\"'()*,.:;?`„“«»-\"\n",
    "empty_string = ''\n",
    "for word in lemmatized_list:\n",
    "    word = word.strip(punct)\n",
    "    empty_string = empty_string + word + ' '\n",
    "empty_string = re.sub(' —', '', empty_string)\n",
    "just_words = empty_string.split()\n",
    "\n",
    "# Now just_words is a string with the text of literary_anecdotes, lemmatized and without punctuation\n",
    "       \n",
    "d = {}\n",
    "for word in just_words:\n",
    "    if word in d:\n",
    "        d[word] += 1\n",
    "    else:\n",
    "        d[word] = 1\n",
    "        \n",
    "# D is a dictionary of literary_anecdotes, where a word is the key and its frequency is the value\n",
    "volume = len(lemmatized_list)\n",
    "print (volume)\n",
    "for word in just_words:\n",
    "    d[word] /= volume\n",
    "    d[word] *= (10**6)\n",
    "\n",
    "# Now the keys in D are IPMs and not the absolute frequencies \n",
    "\n",
    "for x in stop_list:\n",
    "    if d.get(x) != None:\n",
    "        del d[x]\n",
    "    \n",
    "# The stop words are now deleted from the dictionary\n",
    "        \n",
    "frequences = sorted (d.items(), key = lambda x: x[1], reverse = True)\n",
    "\n",
    "print(frequences[:20])\n",
    "\n",
    "#Task completed"
   ]
  },
  {
   "cell_type": "markdown",
   "metadata": {},
   "source": [
    "### Задание 3\n",
    "Сделайте полный морфологический разбор исходного текста. Напишите регулярное выражение, которое будет извлекать из тега только часть речи. Пройдитесь циклом по списку с разборами, который выдал pymystem3, извлекая из каждого разбора форму слова и его часть речи и записывая их в новый словарь (форма -- ключ, часть речи -- значение). Посчитайте абсолютную частоту для всех частей речи, а затем относительнную частоту (абсолютная частота / длина текста в словах)."
   ]
  },
  {
   "cell_type": "code",
   "execution_count": null,
   "metadata": {},
   "outputs": [],
   "source": [
    "with open (\"C:\\\\Users\\\\Arseny\\\\Desktop\\\\literary_anecdotes.txt\", 'r', encoding = 'utf-8') as initial_text:\n",
    "    initial_text = initial_text.read()\n",
    "\n",
    "import re\n",
    "from pymystem3 import Mystem\n",
    "\n",
    "def find_POS_tag_in_string (line):\n",
    "    return line.split(',')[0]\n",
    "\n",
    "full_analysis_list = Mystem().analyze(initial_text)\n",
    "POS_dictionary = {}\n",
    "for word in full_analysis_list:\n",
    "    POS_dictionary[word['text']] = [find_POS_tag_in_string(word['analysis'][0]['gr'])]\n",
    "print (POS_dictionary)\n",
    "\n",
    "POS_counting = {}\n",
    "\n",
    "for POS in POS_dictionary.values():\n",
    "    for word in POS_dictionary.keys():\n",
    "        if POS_dictionary[word] == POS:\n",
    "            if POS in POS_counting:\n",
    "                POS_counting[POS] += 1\n",
    "            else:\n",
    "                POS_counting[POS] = 1\n",
    "print (POS_counting)"
   ]
  },
  {
   "cell_type": "code",
   "execution_count": null,
   "metadata": {},
   "outputs": [],
   "source": []
  }
 ],
 "metadata": {
  "kernelspec": {
   "display_name": "Python 3",
   "language": "python",
   "name": "python3"
  },
  "language_info": {
   "codemirror_mode": {
    "name": "ipython",
    "version": 3
   },
   "file_extension": ".py",
   "mimetype": "text/x-python",
   "name": "python",
   "nbconvert_exporter": "python",
   "pygments_lexer": "ipython3",
   "version": "3.7.0"
  }
 },
 "nbformat": 4,
 "nbformat_minor": 2
}
